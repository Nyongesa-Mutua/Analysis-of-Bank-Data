{
  "nbformat": 4,
  "nbformat_minor": 0,
  "metadata": {
    "colab": {
      "private_outputs": true,
      "provenance": [],
      "toc_visible": true
    },
    "kernelspec": {
      "name": "python3",
      "display_name": "Python 3"
    },
    "language_info": {
      "name": "python"
    }
  },
  "cells": [
    {
      "cell_type": "markdown",
      "source": [
        "#Importing Libraries"
      ],
      "metadata": {
        "id": "MFU2_03hK5MP"
      }
    },
    {
      "cell_type": "code",
      "execution_count": null,
      "metadata": {
        "id": "MdjzsSUPKBa-"
      },
      "outputs": [],
      "source": [
        "import pandas as pd \n",
        "import numpy as np \n",
        "import matplotlib.pyplot as plt \n",
        "import seaborn as sns \n",
        "import warnings\n",
        "import plotly.express as px\n",
        "import plotly.figure_factory as ff\n",
        "import plotly.graph_objects as go\n",
        "warnings.filterwarnings('ignore')"
      ]
    },
    {
      "cell_type": "markdown",
      "source": [
        "# Importing data set"
      ],
      "metadata": {
        "id": "5kBjuAm-K_92"
      }
    },
    {
      "cell_type": "code",
      "source": [
        "path = \"/content/drive/MyDrive/Bank XYZ dataset.csv\"\n",
        "cat = pd.read_csv(path)"
      ],
      "metadata": {
        "id": "1UKKQk29K0HY"
      },
      "execution_count": null,
      "outputs": []
    },
    {
      "cell_type": "code",
      "source": [
        "cat.head()"
      ],
      "metadata": {
        "id": "nGY7lWuKMG7W"
      },
      "execution_count": null,
      "outputs": []
    },
    {
      "cell_type": "markdown",
      "source": [
        "#Explore the data set"
      ],
      "metadata": {
        "id": "n_wmZwBcMPNr"
      }
    },
    {
      "cell_type": "code",
      "source": [
        "cat.head(7)"
      ],
      "metadata": {
        "id": "YjOd0daaMWQC"
      },
      "execution_count": null,
      "outputs": []
    },
    {
      "cell_type": "code",
      "source": [
        "cat.columns"
      ],
      "metadata": {
        "id": "khbLiB-BMWTx"
      },
      "execution_count": null,
      "outputs": []
    },
    {
      "cell_type": "code",
      "source": [
        "cat.describe()"
      ],
      "metadata": {
        "id": "oluCaUt5MWXU"
      },
      "execution_count": null,
      "outputs": []
    },
    {
      "cell_type": "code",
      "source": [
        "cat.describe(include='object')"
      ],
      "metadata": {
        "id": "E4EsEFUTMWbI"
      },
      "execution_count": null,
      "outputs": []
    },
    {
      "cell_type": "code",
      "source": [
        "cat.shape"
      ],
      "metadata": {
        "id": "YqXCz-52MWfH"
      },
      "execution_count": null,
      "outputs": []
    },
    {
      "cell_type": "code",
      "source": [
        "len(cat)"
      ],
      "metadata": {
        "id": "wLRYY00VM7xZ"
      },
      "execution_count": null,
      "outputs": []
    },
    {
      "cell_type": "markdown",
      "source": [
        "# relatinship between defaulting and other columns"
      ],
      "metadata": {
        "id": "RU77k2BtNeI8"
      }
    },
    {
      "cell_type": "code",
      "source": [
        "cat.rename(columns = {'eduction_level':'education_level'}, inplace = True)"
      ],
      "metadata": {
        "id": "W8HL1IkARmhg"
      },
      "execution_count": null,
      "outputs": []
    },
    {
      "cell_type": "code",
      "source": [
        "cat.default.value_counts()"
      ],
      "metadata": {
        "id": "dDj7JVnQM729"
      },
      "execution_count": null,
      "outputs": []
    },
    {
      "cell_type": "code",
      "source": [
        "cat.default.value_counts().plot.bar()\n",
        "plt.title('DEFAULT')\n",
        "plt.xlabel('Customers')\n",
        "plt.ylabel('Number')"
      ],
      "metadata": {
        "id": "LeN8rfzgM76z"
      },
      "execution_count": null,
      "outputs": []
    },
    {
      "cell_type": "markdown",
      "source": [
        "# relationship betweem education level and defaulting"
      ],
      "metadata": {
        "id": "77umQxmtPszE"
      }
    },
    {
      "cell_type": "code",
      "source": [
        "plt.figure(figsize=(10, 6))\n",
        "sns.countplot(x ='education_level', data =cat)\n",
        "plt.title('EDUCATION LEVEL')"
      ],
      "metadata": {
        "id": "DJVBVU9ZQNAo"
      },
      "execution_count": null,
      "outputs": []
    },
    {
      "cell_type": "code",
      "source": [
        "cat.groupby('default')['age'].agg([\"mean\", \"std\"])"
      ],
      "metadata": {
        "id": "iyBSqcaXM7-p"
      },
      "execution_count": null,
      "outputs": []
    },
    {
      "cell_type": "code",
      "source": [
        "plt.figure(figsize =(10, 7))\n",
        "cat.groupby('default')['age'].agg([\"mean\"]).plot.bar()\n",
        "print('Yonger customers are more likely to default')"
      ],
      "metadata": {
        "id": "Mqe713hoM8DN"
      },
      "execution_count": null,
      "outputs": []
    },
    {
      "cell_type": "code",
      "source": [
        "plt.figure(figsize=(8,5))\n",
        "pd.crosstab(cat.education_level,cat.default).plot.bar()\n",
        "print('people who only have a highschool degree are highest defaulters in number ')"
      ],
      "metadata": {
        "id": "TjexPecmlP1A"
      },
      "execution_count": null,
      "outputs": []
    },
    {
      "cell_type": "code",
      "source": [
        "plt.figure(figsize =(10, 7))\n",
        "cat.groupby('default')['employ'].agg([\"mean\"]).plot.bar()"
      ],
      "metadata": {
        "id": "KE3nKmN7Vmyh"
      },
      "execution_count": null,
      "outputs": []
    },
    {
      "cell_type": "code",
      "source": [
        "plt.figure(figsize =(10, 7))\n",
        "cat.groupby('education_level')['income'].agg([\"mean\"]).plot.bar()\n",
        "plt.title('INCOME FOR EACH EDUCATION LEVEL')\n",
        "plt.ylabel('Income')"
      ],
      "metadata": {
        "id": "sODQO72EVm2u"
      },
      "execution_count": null,
      "outputs": []
    },
    {
      "cell_type": "markdown",
      "source": [
        "# address and defaulting"
      ],
      "metadata": {
        "id": "5u171uc_Yo0M"
      }
    },
    {
      "cell_type": "code",
      "source": [
        "pd.crosstab(cat.employ, cat.default).plot.bar()\n",
        "print('employees of category 14,14,16,17,181,19,20, produce no defaulters')"
      ],
      "metadata": {
        "id": "qMnZHHGLVm-9"
      },
      "execution_count": null,
      "outputs": []
    },
    {
      "cell_type": "code",
      "source": [
        "cat.head()"
      ],
      "metadata": {
        "id": "jYvm06stm3BQ"
      },
      "execution_count": null,
      "outputs": []
    },
    {
      "cell_type": "code",
      "source": [
        "cat.address.value_counts().plot.bar()"
      ],
      "metadata": {
        "id": "1wtSPAzsVm6r"
      },
      "execution_count": null,
      "outputs": []
    },
    {
      "cell_type": "code",
      "source": [
        "pd.crosstab(cat.address,cat.default).plot.bar()\n",
        "print('People at address 0 are highest number of defaulters, while people at address 15 produce no defaulters')"
      ],
      "metadata": {
        "id": "Qky6-PHUVxGq"
      },
      "execution_count": null,
      "outputs": []
    },
    {
      "cell_type": "code",
      "source": [
        "cat.columns"
      ],
      "metadata": {
        "id": "C09KGL5N2YlR"
      },
      "execution_count": null,
      "outputs": []
    },
    {
      "cell_type": "code",
      "source": [
        "pd.crosstab(cat.income, cat.default).plot.bar()"
      ],
      "metadata": {
        "id": "eL4Ud5bAVnCr"
      },
      "execution_count": null,
      "outputs": []
    },
    {
      "cell_type": "code",
      "source": [
        "cat.groupby('default')['income'].plot.bar()\n"
      ],
      "metadata": {
        "id": "xwByoCdL4Fgo"
      },
      "execution_count": null,
      "outputs": []
    },
    {
      "cell_type": "code",
      "source": [
        "sns.violinplot(x= 'default', y='income', data= cat)"
      ],
      "metadata": {
        "id": "t5hDQOwlVnGu"
      },
      "execution_count": null,
      "outputs": []
    },
    {
      "cell_type": "code",
      "source": [
        "cat.columns"
      ],
      "metadata": {
        "id": "rjlk3e_p4XyW"
      },
      "execution_count": null,
      "outputs": []
    },
    {
      "cell_type": "code",
      "source": [
        "pd.crosstab(cat.debtinc, cat.default).plot.bar()"
      ],
      "metadata": {
        "id": "6fPTkWVbMWmZ"
      },
      "execution_count": null,
      "outputs": []
    },
    {
      "cell_type": "code",
      "source": [
        "plt.figure(figsize=(10, 5))\n",
        "sns.distplot(cat.income)\n",
        "plt.title('Income')"
      ],
      "metadata": {
        "id": "0bMQvIat8HGM"
      },
      "execution_count": null,
      "outputs": []
    },
    {
      "cell_type": "code",
      "source": [
        "plt.figure(figsize =(10, 7))\n",
        "cat.groupby('default')['debtinc'].agg([\"mean\"]).plot.bar()"
      ],
      "metadata": {
        "id": "mB-_5OL9-ky_"
      },
      "execution_count": null,
      "outputs": []
    },
    {
      "cell_type": "code",
      "source": [
        "plt.figure(figsize =(10, 7))\n",
        "cat.groupby('default')['income'].agg([\"mean\"]).plot.bar()"
      ],
      "metadata": {
        "id": "hsTnsRPW-k35"
      },
      "execution_count": null,
      "outputs": []
    },
    {
      "cell_type": "code",
      "source": [
        "cat.columns"
      ],
      "metadata": {
        "id": "gRvs8fu9-k8I"
      },
      "execution_count": null,
      "outputs": []
    },
    {
      "cell_type": "markdown",
      "source": [
        "# credit debt and defaulting"
      ],
      "metadata": {
        "id": "gMO_kWv7Zzm3"
      }
    },
    {
      "cell_type": "code",
      "source": [
        "plt.figure(figsize =(10, 7))\n",
        "cat.groupby('default')['creddebt'].agg([\"mean\"]).plot.bar()\n",
        "print('people with higher credit debt are more likely to default')"
      ],
      "metadata": {
        "id": "kYBvN_3N-lBC"
      },
      "execution_count": null,
      "outputs": []
    },
    {
      "cell_type": "markdown",
      "source": [
        "defaulting and other debts"
      ],
      "metadata": {
        "id": "tXlSWUAVZ9Da"
      }
    },
    {
      "cell_type": "code",
      "source": [
        "plt.figure(figsize =(10, 7))\n",
        "cat.groupby('default')['othdebt'].agg([\"mean\"]).plot.bar()\n",
        "print('people with  higher other debts are more likely to default')"
      ],
      "metadata": {
        "id": "HpyTHsp4MWwR"
      },
      "execution_count": null,
      "outputs": []
    },
    {
      "cell_type": "code",
      "source": [
        "plt.figure(figsize =(10, 7))\n",
        "cat.groupby(['default','education_level'])['income'].agg([\"mean\"]).plot.bar()"
      ],
      "metadata": {
        "id": "xm7yZMhNMLc4"
      },
      "execution_count": null,
      "outputs": []
    },
    {
      "cell_type": "code",
      "source": [
        "plt.figure(figsize=(8, 4))\n",
        "sns.barplot(x='education_level', y='income', hue='default', data=cat)\n",
        "plt.title('income for different education levels')"
      ],
      "metadata": {
        "id": "koL8ZGaKDjpo"
      },
      "execution_count": null,
      "outputs": []
    },
    {
      "cell_type": "code",
      "source": [
        "plt.figure(figsize=(8, 4))\n",
        "sns.barplot(x='education_level', y='age', hue='default', data=cat)\n",
        "plt.title('income for different education levels')"
      ],
      "metadata": {
        "id": "UUxeAxrnEjT3"
      },
      "execution_count": null,
      "outputs": []
    },
    {
      "cell_type": "code",
      "source": [
        "cat.columns"
      ],
      "metadata": {
        "id": "zHQLg-CTE9KF"
      },
      "execution_count": null,
      "outputs": []
    },
    {
      "cell_type": "code",
      "source": [
        "plt.figure(figsize=(8, 4))\n",
        "sns.barplot(x='employ', y='income', hue='default', data=cat)\n",
        "plt.title('different employees defaulting')"
      ],
      "metadata": {
        "id": "NbV_SRkRHhXp"
      },
      "execution_count": null,
      "outputs": []
    },
    {
      "cell_type": "code",
      "source": [
        "plt.figure(figsize=(8, 4))\n",
        "sns.barplot(x='employ', y='age', hue='default', data=cat)\n",
        "plt.title('employyes of different ages defaulting')"
      ],
      "metadata": {
        "id": "iBkb_botH0xq"
      },
      "execution_count": null,
      "outputs": []
    },
    {
      "cell_type": "code",
      "source": [
        "plt.figure(figsize=(8, 4))\n",
        "sns.barplot(x='employ', y='address', hue='default', data=cat)\n",
        "plt.title('employees at different addresses defaulting ')"
      ],
      "metadata": {
        "id": "4lGtVucOIJY9"
      },
      "execution_count": null,
      "outputs": []
    },
    {
      "cell_type": "code",
      "source": [
        "plt.figure(figsize=(8, 4))\n",
        "sns.barplot(x='employ', y='debtinc', hue='default', data=cat)\n",
        "plt.title('employees at different addresses defaulting ')"
      ],
      "metadata": {
        "id": "BroqOWIAIUo0"
      },
      "execution_count": null,
      "outputs": []
    },
    {
      "cell_type": "code",
      "source": [
        "plt.figure(figsize=(8, 4))\n",
        "sns.barplot(x='employ', y='creddebt', hue='default', data=cat)\n",
        "plt.title('employees at different addresses defaulting ')"
      ],
      "metadata": {
        "id": "6XzFrVL3Iy3G"
      },
      "execution_count": null,
      "outputs": []
    },
    {
      "cell_type": "code",
      "source": [
        "plt.figure(figsize=(8, 4))\n",
        "sns.barplot(x='employ', y='othdebt', hue='default', data=cat)\n",
        "plt.title('employees at different addresses defaulting ')"
      ],
      "metadata": {
        "id": "SDF8IwG_Iy8X"
      },
      "execution_count": null,
      "outputs": []
    },
    {
      "cell_type": "code",
      "source": [
        "plt.figure(figsize=(8, 4))\n",
        "sns.barplot(x='address', y='creddebt', hue='default', data=cat)\n",
        "plt.title('employees at different addresses defaulting ')"
      ],
      "metadata": {
        "id": "KoB-Y_gWIzC9"
      },
      "execution_count": null,
      "outputs": []
    },
    {
      "cell_type": "code",
      "source": [
        "plt.figure(figsize=(8, 4))\n",
        "sns.barplot(x='address', y='othdebt', hue='default', data=cat)\n",
        "plt.title('employees at different addresses defaulting ')"
      ],
      "metadata": {
        "id": "bB-lEmLqJ5SB"
      },
      "execution_count": null,
      "outputs": []
    },
    {
      "cell_type": "code",
      "source": [
        "plt.figure(figsize=(8, 4))\n",
        "sns.barplot(x='address', y='income', hue='default', data=cat)\n",
        "plt.title('employees at different addresses defaulting ')"
      ],
      "metadata": {
        "id": "SyfzwDvcIzJi"
      },
      "execution_count": null,
      "outputs": []
    },
    {
      "cell_type": "code",
      "source": [
        "plt.figure(figsize=(8, 4))\n",
        "sns.barplot(x='address', y='age', hue='default', data=cat)\n",
        "plt.title('employees at different addresses defaulting ')"
      ],
      "metadata": {
        "id": "_822160VIzNa"
      },
      "execution_count": null,
      "outputs": []
    },
    {
      "cell_type": "code",
      "source": [
        "plt.figure(figsize=(8, 4))\n",
        "sns.barplot(x='address', y='othdebt', hue='default', data=cat)\n",
        "plt.title('employees at different addresses defaulting ')"
      ],
      "metadata": {
        "id": "f2svaCsaIzRV"
      },
      "execution_count": null,
      "outputs": []
    },
    {
      "cell_type": "code",
      "source": [
        "plt.figure(figsize=(8, 4))\n",
        "sns.barplot(x='address', y='debtinc', hue='default', data=cat)\n",
        "plt.title('employees at different addresses defaulting ')"
      ],
      "metadata": {
        "id": "6bHBZ1Y1IzV2"
      },
      "execution_count": null,
      "outputs": []
    },
    {
      "cell_type": "code",
      "source": [],
      "metadata": {
        "id": "DrpVCU2TM8LB"
      },
      "execution_count": null,
      "outputs": []
    }
  ]
}